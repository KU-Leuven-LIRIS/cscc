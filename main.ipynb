{
 "cells": [
  {
   "cell_type": "code",
   "execution_count": null,
   "metadata": {
    "scrolled": false
   },
   "outputs": [],
   "source": [
    "#pip install -r requirements.txt"
   ]
  },
  {
   "cell_type": "markdown",
   "metadata": {},
   "source": [
    "# Causal profit\n",
    "\n",
    "##### Datasets\n",
    "\n",
    "1. Hillstrom\n",
    "2. Bank\n",
    "3. Criteo\n",
    "4. Synthetic\n",
    "\n",
    "##### Causal models\n",
    "\n",
    "1. T_learner\n",
    "2. S_learner\n",
    "\n",
    "##### Algorithms\n",
    "\n",
    "1. Logistic regression (LR)\n",
    "2. XGBoost (XGB)"
   ]
  },
  {
   "cell_type": "code",
   "execution_count": null,
   "metadata": {
    "scrolled": true
   },
   "outputs": [],
   "source": [
    "from _init_ import *\n",
    "root = os.getcwd()"
   ]
  },
  {
   "cell_type": "markdown",
   "metadata": {},
   "source": [
    "### 1. Load data"
   ]
  },
  {
   "cell_type": "code",
   "execution_count": null,
   "metadata": {},
   "outputs": [],
   "source": [
    "'''\n",
    "load_data\n",
    "> Parameters: name_dataset, path datasets\n",
    "> Returns: dictionary containing: \n",
    "    1. 'name': Name dataset\n",
    "    2. 'folds': Folds for training\n",
    "    3. 'T': Name treatment\n",
    "    4. 'X': Names features\n",
    "    5. 'Y': Name target\n",
    "    6. 'descriptive': Descriptives\n",
    "'''\n",
    "path_datasets = root + '/datasets/' \n",
    "data = load_data('Synthetic',path_datasets)"
   ]
  },
  {
   "cell_type": "markdown",
   "metadata": {},
   "source": [
    "### 2. Train causal model\n",
    "\n",
    "1. Train causal models: 'load_model' = False\n",
    "2. Load pretrained causal models: 'load_model' = True"
   ]
  },
  {
   "cell_type": "code",
   "execution_count": null,
   "metadata": {},
   "outputs": [],
   "source": [
    "'''\n",
    "train_causal\n",
    "> Parameters: \n",
    "    1. Path to directory where models are saved\n",
    "    2. Name of dataset\n",
    "    3. Folds\n",
    "    4. Name treatment\n",
    "    5. Name target\n",
    "    6. Name features\n",
    "    7. Algorithm: 'LR' or 'XGB'\n",
    "    8. Load_model == True if model was saved\n",
    "> Returns: list of dfs with predictions\n",
    "'''\n",
    "path_models = root + '/models/'\n",
    "effect_estimates = train_causal(path_models, data['name'],data['folds'],data['T'],data['Y'],data['X'],'LR',True)"
   ]
  },
  {
   "cell_type": "markdown",
   "metadata": {},
   "source": [
    "### 3. Performance metrics"
   ]
  },
  {
   "cell_type": "code",
   "execution_count": null,
   "metadata": {
    "scrolled": true
   },
   "outputs": [],
   "source": [
    "\"\"\"\n",
    "Specify the b and c parameters:\n",
    "\"\"\"\n",
    "#b = [10,100,200]\n",
    "b = [100]\n",
    "#benefit = 10\n",
    "#c_pro = [0.2,0.3,0.4]\n",
    "c = 0.10\n",
    "\n",
    "'''\n",
    "performance_metrics\n",
    "> Parameters: \n",
    "    1. Predictions: effect_estimates\n",
    "    2. Name of causal model: [CF,T_learner,S_learner]\n",
    "    3. Name treatment\n",
    "    4. Name target\n",
    "    5. Benefit parameters: b\n",
    "    6. Cost parameters: c\n",
    "> Returns: list of performance metrics and data for plots\n",
    "'''\n",
    "\n",
    "performance = performance_metrics(effect_estimates,'S_learner',data['T'],data['Y'],b,c)\n",
    "performance"
   ]
  },
  {
   "cell_type": "markdown",
   "metadata": {},
   "source": [
    "### 4. Plots\n",
    "#### Qini"
   ]
  },
  {
   "cell_type": "code",
   "execution_count": null,
   "metadata": {},
   "outputs": [],
   "source": [
    "ax = sns.lineplot(x='x', y= 'Value', hue='Approach', style = 'Approach',lw=1,data = performance['plot_qinis'])\n",
    "plt.xlabel(\"Targeted proportion\")\n",
    "plt.ylabel(\"Cumulative Qini\")\n",
    "#plt.xticks(np.linspace(0, 100, 11, endpoint = True))\n",
    "#ax.legend(loc = 4, frameon = False, ncol = 1, labelspacing= 0.2)\n",
    "#plt.legend(bbox_to_anchor=(1.05, 1), loc=2, borderaxespad=0.)\n",
    "plt.legend(loc=4, borderaxespad=0.1)\n",
    "#fig_uplift = ax.get_figure()\n",
    "#fig_uplift.savefig('Qini_Hillstrom.pdf',bbox_inches='tight',transparent =True)"
   ]
  },
  {
   "cell_type": "markdown",
   "metadata": {},
   "source": [
    "#### Profit"
   ]
  },
  {
   "cell_type": "code",
   "execution_count": null,
   "metadata": {},
   "outputs": [],
   "source": [
    "sns.set_style(\"white\")\n",
    "flatui = [\"#1f77b4\", \"#2ca02c\"]\n",
    "ax = sns.lineplot(x='x', y= 'Value', hue='Approach', palette=flatui,lw=1,data = performance['plot_profit'])\n",
    "plt.xlabel(\"Targeted proportion\")\n",
    "plt.ylabel(\"Profit per instance\")\n",
    "#plt.xticks(np.linspace(0, 100, 11, endpoint = True))\n",
    "#ax.legend(loc = 4, frameon = False, ncol = 1, labelspacing= 0.2)\n",
    "#plt.legend(bbox_to_anchor=(1.05, 1), loc=2, borderaxespad=0.)\n",
    "#plt.legend(loc=2, borderaxespad=0.1)#loc = 4\n",
    "#fig_uplift = ax.get_figure()\n",
    "#fig_uplift.savefig('b10_CF_Criteo.pdf',bbox_inches='tight',transparent =True)"
   ]
  },
  {
   "cell_type": "markdown",
   "metadata": {},
   "source": [
    "#### Cumulative positive instances in T and C"
   ]
  },
  {
   "cell_type": "code",
   "execution_count": null,
   "metadata": {},
   "outputs": [],
   "source": [
    "sns.set_style(\"white\")\n",
    "ax = sns.lineplot(x='x', y= 'Value', hue='Approach', style = 'Approach',lw=1,data = performance['plot_cum_t'])"
   ]
  },
  {
   "cell_type": "code",
   "execution_count": null,
   "metadata": {},
   "outputs": [],
   "source": []
  }
 ],
 "metadata": {
  "kernelspec": {
   "display_name": "Python 3 (ipykernel)",
   "language": "python",
   "name": "python3"
  },
  "language_info": {
   "codemirror_mode": {
    "name": "ipython",
    "version": 3
   },
   "file_extension": ".py",
   "mimetype": "text/x-python",
   "name": "python",
   "nbconvert_exporter": "python",
   "pygments_lexer": "ipython3",
   "version": "3.7.11"
  }
 },
 "nbformat": 4,
 "nbformat_minor": 4
}
