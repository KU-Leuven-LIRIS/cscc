{
 "cells": [
  {
   "cell_type": "markdown",
   "metadata": {},
   "source": [
    "# Causal profit\n",
    "\n",
    "##### Datasets\n",
    "\n",
    "1. Hillstrom\n",
    "2. Bank\n",
    "3. Criteo\n",
    "4. Synthetic\n",
    "\n",
    "##### Causal models\n",
    "\n",
    "1. T_learner\n",
    "2. S_learner\n",
    "\n",
    "##### Algorithms\n",
    "\n",
    "1. Logistic regression (LR)\n",
    "2. XGBoost (XGB)"
   ]
  },
  {
   "cell_type": "code",
   "execution_count": 1,
   "metadata": {},
   "outputs": [
    {
     "name": "stdout",
     "output_type": "stream",
     "text": [
      "Collecting CausalInference==0.1.2\n",
      "  Using cached CausalInference-0.1.2.tar.gz (58 kB)\n",
      "Collecting causallift==0.0.3\n",
      "  Using cached causallift-0.0.3-py3-none-any.whl (12 kB)\n",
      "Collecting causalml==0.8.0\n",
      "  Using cached causalml-0.8.0-cp37-cp37m-macosx_10_9_x86_64.whl (213 kB)\n",
      "Collecting econml==0.7.0\n",
      "  Using cached econml-0.7.0-py3-none-any.whl (312 kB)\n",
      "Collecting joblib==0.14.1\n",
      "  Using cached joblib-0.14.1-py2.py3-none-any.whl (294 kB)\n",
      "Collecting matplotlib==3.3.4\n",
      "  Using cached matplotlib-3.3.4-cp37-cp37m-macosx_10_9_x86_64.whl (8.5 MB)\n",
      "Collecting numpy==1.19.1\n",
      "  Using cached numpy-1.19.1-cp37-cp37m-macosx_10_9_x86_64.whl (15.3 MB)\n",
      "Collecting pandas==1.1.2\n",
      "  Using cached pandas-1.1.2-cp37-cp37m-macosx_10_9_x86_64.whl (10.4 MB)\n",
      "Collecting plotly==4.11.0\n",
      "  Using cached plotly-4.11.0-py2.py3-none-any.whl (13.1 MB)\n",
      "Collecting scikit-learn==0.23.2\n",
      "  Using cached scikit_learn-0.23.2-cp37-cp37m-macosx_10_9_x86_64.whl (7.2 MB)\n",
      "Collecting scikit-plot==0.3.7\n",
      "  Using cached scikit_plot-0.3.7-py3-none-any.whl (33 kB)\n",
      "Collecting scikit-uplift==0.2.0\n",
      "  Using cached scikit_uplift-0.2.0-py3-none-any.whl (20 kB)\n",
      "Collecting scipy==1.4.1\n",
      "  Using cached scipy-1.4.1-cp37-cp37m-macosx_10_6_intel.whl (28.4 MB)\n",
      "Collecting seaborn==0.11.1\n",
      "  Using cached seaborn-0.11.1-py3-none-any.whl (285 kB)\n",
      "Collecting xgboost==1.5.0\n",
      "  Downloading xgboost-1.5.0-py3-none-macosx_10_14_x86_64.macosx_10_15_x86_64.macosx_11_0_x86_64.whl (1.3 MB)\n",
      "\u001b[K     |████████████████████████████████| 1.3 MB 1.3 MB/s eta 0:00:01\n",
      "\u001b[?25hCollecting Cython>=0.28.0\n",
      "  Downloading Cython-0.29.27-py2.py3-none-any.whl (983 kB)\n",
      "\u001b[K     |████████████████████████████████| 983 kB 2.0 MB/s eta 0:00:01\n",
      "\u001b[?25hCollecting pydotplus\n",
      "  Downloading pydotplus-2.0.2.tar.gz (278 kB)\n",
      "\u001b[K     |████████████████████████████████| 278 kB 1.9 MB/s eta 0:00:01\n",
      "\u001b[?25hCollecting keras\n",
      "  Downloading keras-2.8.0-py2.py3-none-any.whl (1.4 MB)\n",
      "\u001b[K     |████████████████████████████████| 1.4 MB 1.8 MB/s eta 0:00:01\n",
      "\u001b[?25hRequirement already satisfied: packaging in /Users/jentevanbelle/anaconda3/envs/causal-profit/lib/python3.7/site-packages (from causalml==0.8.0->-r requirements.txt (line 6)) (21.3)\n",
      "Collecting tqdm\n",
      "  Downloading tqdm-4.62.3-py2.py3-none-any.whl (76 kB)\n",
      "\u001b[K     |████████████████████████████████| 76 kB 2.2 MB/s eta 0:00:01\n",
      "\u001b[?25hCollecting statsmodels>=0.9.0\n",
      "  Downloading statsmodels-0.13.1-cp37-cp37m-macosx_10_15_x86_64.whl (9.5 MB)\n",
      "\u001b[K     |████████████████████████████████| 9.5 MB 1.7 MB/s eta 0:00:01\n",
      "\u001b[?25hCollecting lightgbm\n",
      "  Using cached lightgbm-3.3.2-py3-none-macosx_10_14_x86_64.macosx_10_15_x86_64.macosx_11_0_x86_64.whl (1.2 MB)\n",
      "Collecting shap\n",
      "  Downloading shap-0.40.0-cp37-cp37m-macosx_10_9_x86_64.whl (433 kB)\n",
      "\u001b[K     |████████████████████████████████| 433 kB 2.0 MB/s eta 0:00:01\n",
      "\u001b[?25hCollecting tensorflow>=1.15.2\n",
      "  Downloading tensorflow-2.8.0-cp37-cp37m-macosx_10_14_x86_64.whl (217.4 MB)\n",
      "\u001b[K     |████████████████████████████████| 217.4 MB 1.9 MB/s eta 0:00:01     |███████████████                 | 102.6 MB 1.7 MB/s eta 0:01:06     |████████████████████████████▉   | 195.9 MB 2.1 MB/s eta 0:00:11     |████████████████████████████████| 217.1 MB 1.9 MB/s eta 0:00:01\n",
      "\u001b[?25hCollecting pygam\n",
      "  Downloading pygam-0.8.0-py2.py3-none-any.whl (1.8 MB)\n",
      "\u001b[K     |████████████████████████████████| 1.8 MB 1.9 MB/s eta 0:00:01\n",
      "\u001b[?25hRequirement already satisfied: setuptools>=41.0.0 in /Users/jentevanbelle/anaconda3/envs/causal-profit/lib/python3.7/site-packages (from causalml==0.8.0->-r requirements.txt (line 6)) (58.0.4)\n",
      "Requirement already satisfied: pip>=10.0 in /Users/jentevanbelle/anaconda3/envs/causal-profit/lib/python3.7/site-packages (from causalml==0.8.0->-r requirements.txt (line 6)) (21.2.2)\n",
      "Collecting dill\n",
      "  Downloading dill-0.3.4-py2.py3-none-any.whl (86 kB)\n",
      "\u001b[K     |████████████████████████████████| 86 kB 2.0 MB/s eta 0:00:01\n",
      "\u001b[?25hCollecting graphviz\n",
      "  Downloading graphviz-0.19.1-py3-none-any.whl (46 kB)\n",
      "\u001b[K     |████████████████████████████████| 46 kB 2.1 MB/s eta 0:00:01\n",
      "\u001b[?25hCollecting sparse\n",
      "  Using cached sparse-0.13.0-py2.py3-none-any.whl (77 kB)\n",
      "INFO: pip is looking at multiple versions of <Python from Requires-Python> to determine which version is compatible with other requirements. This could take a while.\n",
      "INFO: pip is looking at multiple versions of causalml to determine which version is compatible with other requirements. This could take a while.\n",
      "INFO: pip is looking at multiple versions of causallift to determine which version is compatible with other requirements. This could take a while.\n",
      "INFO: pip is looking at multiple versions of causalinference to determine which version is compatible with other requirements. This could take a while.\n",
      "\u001b[31mERROR: Cannot install -r requirements.txt (line 5), -r requirements.txt (line 6), -r requirements.txt (line 7) and scikit-learn==0.23.2 because these package versions have conflicting dependencies.\u001b[0m\n",
      "\n",
      "The conflict is caused by:\n",
      "    The user requested scikit-learn==0.23.2\n",
      "    causallift 0.0.3 depends on scikit-learn\n",
      "    causalml 0.8.0 depends on scikit-learn>=0.22.0\n",
      "    econml 0.7.0 depends on scikit-learn~=0.21.0\n",
      "\n",
      "To fix this you could try to:\n",
      "1. loosen the range of package versions you've specified\n",
      "2. remove package versions to allow pip attempt to solve the dependency conflict\n",
      "\n",
      "\u001b[31mERROR: ResolutionImpossible: for help visit https://pip.pypa.io/en/latest/user_guide/#fixing-conflicting-dependencies\u001b[0m\n",
      "Note: you may need to restart the kernel to use updated packages.\n"
     ]
    }
   ],
   "source": [
    "pip install -r requirements.txt"
   ]
  },
  {
   "cell_type": "code",
   "execution_count": null,
   "metadata": {
    "scrolled": true
   },
   "outputs": [],
   "source": [
    "from _init_ import *\n",
    "root = os.getcwd()"
   ]
  },
  {
   "cell_type": "markdown",
   "metadata": {},
   "source": [
    "### 1. Load data"
   ]
  },
  {
   "cell_type": "code",
   "execution_count": null,
   "metadata": {},
   "outputs": [],
   "source": [
    "'''\n",
    "load_data\n",
    "> Parameters: name_dataset, path datasets\n",
    "> Returns: dictionary containing: \n",
    "    1. 'name': Name dataset\n",
    "    2. 'folds': Folds for training\n",
    "    3. 'T': Name treatment\n",
    "    4. 'X': Names features\n",
    "    5. 'Y': Name target\n",
    "    6. 'descriptive': Descriptives\n",
    "'''\n",
    "path_datasets = root + 'datasets/' \n",
    "data = load_data('Synthetic',path_datasets)"
   ]
  },
  {
   "cell_type": "markdown",
   "metadata": {},
   "source": [
    "### 2. Train causal model\n",
    "\n",
    "1. Train causal models: 'load_model' = False\n",
    "2. Load pretrained causal models: 'load_model' = True"
   ]
  },
  {
   "cell_type": "code",
   "execution_count": null,
   "metadata": {},
   "outputs": [],
   "source": [
    "'''\n",
    "train_causal\n",
    "> Parameters: \n",
    "    1. Path to directory where models are saved\n",
    "    2. Name of dataset\n",
    "    3. Folds\n",
    "    4. Name treatment\n",
    "    5. Name target\n",
    "    6. Name features\n",
    "    7. Algorithm \n",
    "    8. Load_model == True if model was saved\n",
    "> Returns: list of dfs with predictions\n",
    "'''\n",
    "path_models = root + '/models/'\n",
    "effect_estimates = train_causal(path_models, data['name'],data['folds'],data['T'],data['Y'],data['X'],'XGB',True)"
   ]
  },
  {
   "cell_type": "markdown",
   "metadata": {},
   "source": [
    "### 3. Performance metrics"
   ]
  },
  {
   "cell_type": "code",
   "execution_count": null,
   "metadata": {
    "scrolled": true
   },
   "outputs": [],
   "source": [
    "\"\"\"\n",
    "Specify the b and c parameters:\n",
    "\"\"\"\n",
    "#b = [10,100,200]\n",
    "b = [100]\n",
    "#benefit = 10\n",
    "#c_pro = [0.2,0.3,0.4]\n",
    "c = 0.1\n",
    "\n",
    "'''\n",
    "performance_metrics\n",
    "> Parameters: \n",
    "    1. Predictions: effect_estimates\n",
    "    2. Name of causal model: [CF,T_learner,S_learner]\n",
    "    3. Name treatment\n",
    "    4. Name target\n",
    "    5. Benefit parameters: b\n",
    "    6. Cost parameters: c\n",
    "> Returns: list of performance metrics and data for plots\n",
    "'''\n",
    "\n",
    "performance = performance_metrics(effect_estimates,'T_learner',data['T'],data['Y'],b,c)\n",
    "performance"
   ]
  },
  {
   "cell_type": "markdown",
   "metadata": {},
   "source": [
    "### 4. Plots\n",
    "#### Qini"
   ]
  },
  {
   "cell_type": "code",
   "execution_count": null,
   "metadata": {},
   "outputs": [],
   "source": [
    "ax = sns.lineplot(x='x', y= 'Value', hue='Approach', style = 'Approach',lw=1,data = performance['plot_qinis'])\n",
    "plt.xlabel(\"Targeted proportion\")\n",
    "plt.ylabel(\"Cumulative Qini\")\n",
    "#plt.xticks(np.linspace(0, 100, 11, endpoint = True))\n",
    "#ax.legend(loc = 4, frameon = False, ncol = 1, labelspacing= 0.2)\n",
    "#plt.legend(bbox_to_anchor=(1.05, 1), loc=2, borderaxespad=0.)\n",
    "plt.legend(loc=4, borderaxespad=0.1)\n",
    "#fig_uplift = ax.get_figure()\n",
    "#fig_uplift.savefig('Qini_Hillstrom.pdf',bbox_inches='tight',transparent =True)"
   ]
  },
  {
   "cell_type": "markdown",
   "metadata": {},
   "source": [
    "#### Profit"
   ]
  },
  {
   "cell_type": "code",
   "execution_count": null,
   "metadata": {},
   "outputs": [],
   "source": [
    "sns.set_style(\"white\")\n",
    "flatui = [\"#1f77b4\", \"#2ca02c\"]\n",
    "ax = sns.lineplot(x='x', y= 'Value', hue='Approach', palette=flatui,lw=1,data = performance['plot_profit'])\n",
    "plt.xlabel(\"Targeted proportion\")\n",
    "plt.ylabel(\"Profit per instance\")\n",
    "#plt.xticks(np.linspace(0, 100, 11, endpoint = True))\n",
    "#ax.legend(loc = 4, frameon = False, ncol = 1, labelspacing= 0.2)\n",
    "#plt.legend(bbox_to_anchor=(1.05, 1), loc=2, borderaxespad=0.)\n",
    "#plt.legend(loc=2, borderaxespad=0.1)#loc = 4\n",
    "#fig_uplift = ax.get_figure()\n",
    "#fig_uplift.savefig('b10_CF_Criteo.pdf',bbox_inches='tight',transparent =True)"
   ]
  },
  {
   "cell_type": "markdown",
   "metadata": {},
   "source": [
    "#### Cumulative positive instances in T and C"
   ]
  },
  {
   "cell_type": "code",
   "execution_count": null,
   "metadata": {},
   "outputs": [],
   "source": [
    "sns.set_style(\"white\")\n",
    "ax = sns.lineplot(x='x', y= 'Value', hue='Approach', style = 'Approach',lw=1,data = performance['plot_cum_t'])"
   ]
  }
 ],
 "metadata": {
  "kernelspec": {
   "display_name": "Python 3 (ipykernel)",
   "language": "python",
   "name": "python3"
  },
  "language_info": {
   "codemirror_mode": {
    "name": "ipython",
    "version": 3
   },
   "file_extension": ".py",
   "mimetype": "text/x-python",
   "name": "python",
   "nbconvert_exporter": "python",
   "pygments_lexer": "ipython3",
   "version": "3.7.11"
  }
 },
 "nbformat": 4,
 "nbformat_minor": 4
}
